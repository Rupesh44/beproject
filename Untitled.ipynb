{
 "cells": [
  {
   "cell_type": "code",
   "execution_count": 2,
   "id": "158bfde2",
   "metadata": {},
   "outputs": [],
   "source": [
    "from PIL import Image\n",
    "\n",
    "import pandas as pd\n",
    "import matplotlib.pyplot as plt\n",
    "import seaborn as sns\n",
    "import numpy as np\n",
    "from datetime import timedelta\n",
    "from sklearn.linear_model import LinearRegression\n",
    "from sklearn.svm import SVR\n",
    "from statsmodels.tsa.api import Holt\n",
    "\n",
    "#import streamlit as st  \n",
    "import pickle \n",
    "import numpy as np "
   ]
  },
  {
   "cell_type": "code",
   "execution_count": 3,
   "id": "31f7e88e",
   "metadata": {},
   "outputs": [],
   "source": [
    "File = pd.read_csv('countries-aggregated_csv.csv')"
   ]
  },
  {
   "cell_type": "code",
   "execution_count": 4,
   "id": "14377192",
   "metadata": {},
   "outputs": [],
   "source": [
    "File = File[['Date','Country','Confirmed','Deaths']]"
   ]
  },
  {
   "cell_type": "code",
   "execution_count": 5,
   "id": "6a9ff5d6",
   "metadata": {},
   "outputs": [
    {
     "data": {
      "text/html": [
       "<div>\n",
       "<style scoped>\n",
       "    .dataframe tbody tr th:only-of-type {\n",
       "        vertical-align: middle;\n",
       "    }\n",
       "\n",
       "    .dataframe tbody tr th {\n",
       "        vertical-align: top;\n",
       "    }\n",
       "\n",
       "    .dataframe thead th {\n",
       "        text-align: right;\n",
       "    }\n",
       "</style>\n",
       "<table border=\"1\" class=\"dataframe\">\n",
       "  <thead>\n",
       "    <tr style=\"text-align: right;\">\n",
       "      <th></th>\n",
       "      <th>Date</th>\n",
       "      <th>Country</th>\n",
       "      <th>Confirmed</th>\n",
       "      <th>Deaths</th>\n",
       "    </tr>\n",
       "  </thead>\n",
       "  <tbody>\n",
       "    <tr>\n",
       "      <th>0</th>\n",
       "      <td>23-01-2020</td>\n",
       "      <td>Afghanistan</td>\n",
       "      <td>0</td>\n",
       "      <td>0</td>\n",
       "    </tr>\n",
       "    <tr>\n",
       "      <th>1</th>\n",
       "      <td>24-01-2020</td>\n",
       "      <td>Afghanistan</td>\n",
       "      <td>0</td>\n",
       "      <td>0</td>\n",
       "    </tr>\n",
       "    <tr>\n",
       "      <th>2</th>\n",
       "      <td>25-01-2020</td>\n",
       "      <td>Afghanistan</td>\n",
       "      <td>0</td>\n",
       "      <td>0</td>\n",
       "    </tr>\n",
       "    <tr>\n",
       "      <th>3</th>\n",
       "      <td>26-01-2020</td>\n",
       "      <td>Afghanistan</td>\n",
       "      <td>0</td>\n",
       "      <td>0</td>\n",
       "    </tr>\n",
       "    <tr>\n",
       "      <th>4</th>\n",
       "      <td>27-01-2020</td>\n",
       "      <td>Afghanistan</td>\n",
       "      <td>0</td>\n",
       "      <td>0</td>\n",
       "    </tr>\n",
       "    <tr>\n",
       "      <th>...</th>\n",
       "      <td>...</td>\n",
       "      <td>...</td>\n",
       "      <td>...</td>\n",
       "      <td>...</td>\n",
       "    </tr>\n",
       "    <tr>\n",
       "      <th>133078</th>\n",
       "      <td>26-11-2021</td>\n",
       "      <td>Zimbabwe</td>\n",
       "      <td>133836</td>\n",
       "      <td>4704</td>\n",
       "    </tr>\n",
       "    <tr>\n",
       "      <th>133079</th>\n",
       "      <td>27-11-2021</td>\n",
       "      <td>Zimbabwe</td>\n",
       "      <td>133836</td>\n",
       "      <td>4704</td>\n",
       "    </tr>\n",
       "    <tr>\n",
       "      <th>133080</th>\n",
       "      <td>28-11-2021</td>\n",
       "      <td>Zimbabwe</td>\n",
       "      <td>133951</td>\n",
       "      <td>4705</td>\n",
       "    </tr>\n",
       "    <tr>\n",
       "      <th>133081</th>\n",
       "      <td>29-11-2021</td>\n",
       "      <td>Zimbabwe</td>\n",
       "      <td>134226</td>\n",
       "      <td>4706</td>\n",
       "    </tr>\n",
       "    <tr>\n",
       "      <th>133082</th>\n",
       "      <td>30-11-2021</td>\n",
       "      <td>Zimbabwe</td>\n",
       "      <td>134625</td>\n",
       "      <td>4707</td>\n",
       "    </tr>\n",
       "  </tbody>\n",
       "</table>\n",
       "<p>133083 rows × 4 columns</p>\n",
       "</div>"
      ],
      "text/plain": [
       "              Date      Country  Confirmed  Deaths\n",
       "0       23-01-2020  Afghanistan          0       0\n",
       "1       24-01-2020  Afghanistan          0       0\n",
       "2       25-01-2020  Afghanistan          0       0\n",
       "3       26-01-2020  Afghanistan          0       0\n",
       "4       27-01-2020  Afghanistan          0       0\n",
       "...            ...          ...        ...     ...\n",
       "133078  26-11-2021     Zimbabwe     133836    4704\n",
       "133079  27-11-2021     Zimbabwe     133836    4704\n",
       "133080  28-11-2021     Zimbabwe     133951    4705\n",
       "133081  29-11-2021     Zimbabwe     134226    4706\n",
       "133082  30-11-2021     Zimbabwe     134625    4707\n",
       "\n",
       "[133083 rows x 4 columns]"
      ]
     },
     "execution_count": 5,
     "metadata": {},
     "output_type": "execute_result"
    }
   ],
   "source": [
    "File"
   ]
  },
  {
   "cell_type": "code",
   "execution_count": 6,
   "id": "8bb1e525",
   "metadata": {},
   "outputs": [],
   "source": [
    "File.columns = ['Date','Country','Confirmed','Deaths']"
   ]
  },
  {
   "cell_type": "code",
   "execution_count": 7,
   "id": "b7c10922",
   "metadata": {},
   "outputs": [],
   "source": [
    "display = File.sort_values(['Confirmed'], ascending=[False]).drop_duplicates(['Country']).reset_index(drop=True)"
   ]
  },
  {
   "cell_type": "code",
   "execution_count": 8,
   "id": "5787fe09",
   "metadata": {},
   "outputs": [
    {
     "data": {
      "text/html": [
       "<div>\n",
       "<style scoped>\n",
       "    .dataframe tbody tr th:only-of-type {\n",
       "        vertical-align: middle;\n",
       "    }\n",
       "\n",
       "    .dataframe tbody tr th {\n",
       "        vertical-align: top;\n",
       "    }\n",
       "\n",
       "    .dataframe thead th {\n",
       "        text-align: right;\n",
       "    }\n",
       "</style>\n",
       "<table border=\"1\" class=\"dataframe\">\n",
       "  <thead>\n",
       "    <tr style=\"text-align: right;\">\n",
       "      <th></th>\n",
       "      <th>Date</th>\n",
       "      <th>Country</th>\n",
       "      <th>Confirmed</th>\n",
       "      <th>Deaths</th>\n",
       "    </tr>\n",
       "  </thead>\n",
       "  <tbody>\n",
       "    <tr>\n",
       "      <th>0</th>\n",
       "      <td>30-11-2021</td>\n",
       "      <td>US</td>\n",
       "      <td>48586419</td>\n",
       "      <td>781575</td>\n",
       "    </tr>\n",
       "    <tr>\n",
       "      <th>1</th>\n",
       "      <td>30-11-2021</td>\n",
       "      <td>India</td>\n",
       "      <td>34596776</td>\n",
       "      <td>469247</td>\n",
       "    </tr>\n",
       "    <tr>\n",
       "      <th>2</th>\n",
       "      <td>30-11-2021</td>\n",
       "      <td>Brazil</td>\n",
       "      <td>22100143</td>\n",
       "      <td>614985</td>\n",
       "    </tr>\n",
       "    <tr>\n",
       "      <th>3</th>\n",
       "      <td>30-11-2021</td>\n",
       "      <td>United Kingdom</td>\n",
       "      <td>10285745</td>\n",
       "      <td>145414</td>\n",
       "    </tr>\n",
       "    <tr>\n",
       "      <th>4</th>\n",
       "      <td>30-11-2021</td>\n",
       "      <td>Russia</td>\n",
       "      <td>9468640</td>\n",
       "      <td>269900</td>\n",
       "    </tr>\n",
       "    <tr>\n",
       "      <th>...</th>\n",
       "      <td>...</td>\n",
       "      <td>...</td>\n",
       "      <td>...</td>\n",
       "      <td>...</td>\n",
       "    </tr>\n",
       "    <tr>\n",
       "      <th>191</th>\n",
       "      <td>08-03-2021</td>\n",
       "      <td>Marshall Islands</td>\n",
       "      <td>4</td>\n",
       "      <td>0</td>\n",
       "    </tr>\n",
       "    <tr>\n",
       "      <th>192</th>\n",
       "      <td>05-07-2021</td>\n",
       "      <td>Samoa</td>\n",
       "      <td>3</td>\n",
       "      <td>0</td>\n",
       "    </tr>\n",
       "    <tr>\n",
       "      <th>193</th>\n",
       "      <td>01-06-2021</td>\n",
       "      <td>Kiribati</td>\n",
       "      <td>2</td>\n",
       "      <td>0</td>\n",
       "    </tr>\n",
       "    <tr>\n",
       "      <th>194</th>\n",
       "      <td>21-11-2021</td>\n",
       "      <td>Tonga</td>\n",
       "      <td>1</td>\n",
       "      <td>0</td>\n",
       "    </tr>\n",
       "    <tr>\n",
       "      <th>195</th>\n",
       "      <td>27-06-2021</td>\n",
       "      <td>Micronesia</td>\n",
       "      <td>1</td>\n",
       "      <td>0</td>\n",
       "    </tr>\n",
       "  </tbody>\n",
       "</table>\n",
       "<p>196 rows × 4 columns</p>\n",
       "</div>"
      ],
      "text/plain": [
       "           Date           Country  Confirmed  Deaths\n",
       "0    30-11-2021                US   48586419  781575\n",
       "1    30-11-2021             India   34596776  469247\n",
       "2    30-11-2021            Brazil   22100143  614985\n",
       "3    30-11-2021    United Kingdom   10285745  145414\n",
       "4    30-11-2021            Russia    9468640  269900\n",
       "..          ...               ...        ...     ...\n",
       "191  08-03-2021  Marshall Islands          4       0\n",
       "192  05-07-2021             Samoa          3       0\n",
       "193  01-06-2021          Kiribati          2       0\n",
       "194  21-11-2021             Tonga          1       0\n",
       "195  27-06-2021        Micronesia          1       0\n",
       "\n",
       "[196 rows x 4 columns]"
      ]
     },
     "execution_count": 8,
     "metadata": {},
     "output_type": "execute_result"
    }
   ],
   "source": [
    "display"
   ]
  },
  {
   "cell_type": "code",
   "execution_count": 10,
   "id": "659ab581",
   "metadata": {},
   "outputs": [
    {
     "ename": "NameError",
     "evalue": "name 'st' is not defined",
     "output_type": "error",
     "traceback": [
      "\u001b[1;31m---------------------------------------------------------------------------\u001b[0m",
      "\u001b[1;31mNameError\u001b[0m                                 Traceback (most recent call last)",
      "\u001b[1;32m~\\AppData\\Local\\Temp/ipykernel_8748/766671846.py\u001b[0m in \u001b[0;36m<module>\u001b[1;34m\u001b[0m\n\u001b[0;32m      7\u001b[0m     \u001b[1;31m# data_series = data['Country'].tolist()\u001b[0m\u001b[1;33m\u001b[0m\u001b[1;33m\u001b[0m\u001b[0m\n\u001b[0;32m      8\u001b[0m \u001b[0mdata_series\u001b[0m \u001b[1;33m=\u001b[0m \u001b[0mFile\u001b[0m\u001b[1;33m[\u001b[0m\u001b[1;34m\"Country\"\u001b[0m\u001b[1;33m]\u001b[0m\u001b[1;33m.\u001b[0m\u001b[0munique\u001b[0m\u001b[1;33m(\u001b[0m\u001b[1;33m)\u001b[0m\u001b[1;33m\u001b[0m\u001b[1;33m\u001b[0m\u001b[0m\n\u001b[1;32m----> 9\u001b[1;33m \u001b[0ms\u001b[0m \u001b[1;33m=\u001b[0m \u001b[0mst\u001b[0m\u001b[1;33m.\u001b[0m\u001b[0mselectbox\u001b[0m\u001b[1;33m(\u001b[0m\u001b[1;34m\"Country\"\u001b[0m\u001b[1;33m,\u001b[0m \u001b[0mdata_series\u001b[0m\u001b[1;33m)\u001b[0m\u001b[1;33m\u001b[0m\u001b[1;33m\u001b[0m\u001b[0m\n\u001b[0m\u001b[0;32m     10\u001b[0m \u001b[0mmodel\u001b[0m \u001b[1;33m=\u001b[0m \u001b[0mst\u001b[0m\u001b[1;33m.\u001b[0m\u001b[0mselectbox\u001b[0m\u001b[1;33m(\u001b[0m\u001b[1;34m\"Models\"\u001b[0m\u001b[1;33m,\u001b[0m \u001b[0mmodels\u001b[0m\u001b[1;33m)\u001b[0m\u001b[1;33m\u001b[0m\u001b[1;33m\u001b[0m\u001b[0m\n\u001b[0;32m     11\u001b[0m     \u001b[1;31m# select_country(s)\u001b[0m\u001b[1;33m\u001b[0m\u001b[1;33m\u001b[0m\u001b[0m\n",
      "\u001b[1;31mNameError\u001b[0m: name 'st' is not defined"
     ]
    }
   ],
   "source": [
    "models = {\n",
    "        \"Linear Regression\",\n",
    "        \"Support Vector Machine\",\n",
    "        \"Time Series Analysis\",\n",
    "        \"Exponential Smoothing\"\n",
    "    }\n",
    "    # data_series = data['Country'].tolist()\n",
    "data_series = File[\"Country\"].unique()\n",
    "s = st.selectbox(\"Country\", data_series)\n",
    "model = st.selectbox(\"Models\", models)\n",
    "    # select_country(s)"
   ]
  },
  {
   "cell_type": "code",
   "execution_count": 21,
   "id": "707d70bf",
   "metadata": {},
   "outputs": [],
   "source": [
    "x=5"
   ]
  },
  {
   "cell_type": "code",
   "execution_count": 20,
   "id": "7778f290",
   "metadata": {},
   "outputs": [
    {
     "data": {
      "text/plain": [
       "0         Afghanistan\n",
       "1         Afghanistan\n",
       "2         Afghanistan\n",
       "3         Afghanistan\n",
       "4         Afghanistan\n",
       "             ...     \n",
       "133078       Zimbabwe\n",
       "133079       Zimbabwe\n",
       "133080       Zimbabwe\n",
       "133081       Zimbabwe\n",
       "133082       Zimbabwe\n",
       "Name: Country, Length: 133083, dtype: object"
      ]
     },
     "execution_count": 20,
     "metadata": {},
     "output_type": "execute_result"
    }
   ],
   "source": [
    "country"
   ]
  },
  {
   "cell_type": "code",
   "execution_count": 24,
   "id": "ce5b2eb1",
   "metadata": {},
   "outputs": [
    {
     "name": "stdout",
     "output_type": "stream",
     "text": [
      "5\n"
     ]
    }
   ],
   "source": [
    "echo $x"
   ]
  },
  {
   "cell_type": "code",
   "execution_count": null,
   "id": "a9beec9a",
   "metadata": {},
   "outputs": [],
   "source": []
  }
 ],
 "metadata": {
  "kernelspec": {
   "display_name": "Python 3 (ipykernel)",
   "language": "python",
   "name": "python3"
  },
  "language_info": {
   "codemirror_mode": {
    "name": "ipython",
    "version": 3
   },
   "file_extension": ".py",
   "mimetype": "text/x-python",
   "name": "python",
   "nbconvert_exporter": "python",
   "pygments_lexer": "ipython3",
   "version": "3.9.7"
  }
 },
 "nbformat": 4,
 "nbformat_minor": 5
}
